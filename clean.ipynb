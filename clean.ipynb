{
 "cells": [
  {
   "cell_type": "code",
   "execution_count": 2,
   "metadata": {},
   "outputs": [],
   "source": [
    "import json\n",
    "import pandas as pd\n",
    "import os\n",
    "import numpy as np\n",
    "from concurrent.futures import ThreadPoolExecutor"
   ]
  },
  {
   "cell_type": "markdown",
   "metadata": {},
   "source": [
    "## Load json (serial)"
   ]
  },
  {
   "cell_type": "code",
   "execution_count": null,
   "metadata": {},
   "outputs": [],
   "source": [
    "raw_data = pd.DataFrame()\n",
    "\n",
    "# Loop through years from 2018 to 2023\n",
    "for year in range(2018, 2024):\n",
    "    directory = f\"../Data 2018-2023/Project/{year}/\"\n",
    "\n",
    "    # Ensure the directory exists before proceeding\n",
    "    if not os.path.exists(directory):\n",
    "        print(f\"Directory {directory} does not exist.\")\n",
    "        continue\n",
    "\n",
    "    # Get all JSON files in the directory\n",
    "    json_files = [f for f in os.listdir(directory) if f.endswith(\"\")]\n",
    "\n",
    "    # Sort the files to ensure they are processed in order\n",
    "    json_files.sort()\n",
    "\n",
    "    for file_name in json_files:\n",
    "        file_path = os.path.join(directory, file_name)\n",
    "        print(\"Reading\", file_path)\n",
    "\n",
    "        if os.path.exists(file_path):\n",
    "            try:\n",
    "                with open(file_path, \"r\", encoding=\"utf-8\") as file:\n",
    "                    data = json.load(file)\n",
    "\n",
    "                temp_df = pd.json_normalize(data)\n",
    "                raw_data = pd.concat([raw_data, temp_df], ignore_index=True)\n",
    "            except UnicodeDecodeError as e:\n",
    "                print(f\"UnicodeDecodeError while processing {file_path}: {e}\")\n",
    "            except json.JSONDecodeError as e:\n",
    "                print(f\"JSONDecodeError in file {file_path}: {e}\")\n",
    "        else:\n",
    "            print(f\"File {file_path} does not exist.\")"
   ]
  },
  {
   "cell_type": "markdown",
   "metadata": {},
   "source": [
    "## Load json (multithread)"
   ]
  },
  {
   "cell_type": "code",
   "execution_count": null,
   "metadata": {},
   "outputs": [],
   "source": [
    "def load_to_dataframe(root_dir):\n",
    "    \"\"\"\n",
    "    expected the path to contains only .json file\n",
    "    \"\"\"\n",
    "    paths = []\n",
    "    records = []\n",
    "\n",
    "    def find_json_files(root_dir):\n",
    "        \"\"\"\n",
    "        Recursively finds all JSON files in the given directory.\n",
    "        \"\"\"\n",
    "        for dirpath, _, filenames in os.walk(root_dir):\n",
    "            for file in filenames:\n",
    "                paths.append(os.path.join(dirpath, file))\n",
    "\n",
    "    def read_json_file(path):\n",
    "        try:\n",
    "            with open(path, \"r\", encoding=\"utf-8\") as file:\n",
    "                data = json.load(file)\n",
    "            return pd.json_normalize(data).to_dict(\"records\")[0]\n",
    "        except UnicodeDecodeError as e:\n",
    "            print(f\"UnicodeDecodeError while processing {path}: {e}\")\n",
    "        except json.JSONDecodeError as e:\n",
    "            print(f\"JSONDecodeError in file {path}: {e}\")\n",
    "        return\n",
    "\n",
    "    find_json_files(root_dir)\n",
    "\n",
    "    with ThreadPoolExecutor() as executor:\n",
    "        records = list(executor.map(read_json_file, paths))\n",
    "        \n",
    "    # Combine all DataFrames into a single DataFrame\n",
    "    combined_df = pd.DataFrame(records)\n",
    "    return combined_df\n",
    "\n",
    "raw_data = load_to_dataframe(\"../Data 2018-2023/Project/\")\n",
    "raw_data.shape"
   ]
  },
  {
   "cell_type": "code",
   "execution_count": null,
   "metadata": {},
   "outputs": [],
   "source": [
    "raw_data.to_csv(\"raw_data.csv\")"
   ]
  },
  {
   "cell_type": "markdown",
   "metadata": {},
   "source": [
    "## Data Exploration"
   ]
  },
  {
   "cell_type": "code",
   "execution_count": null,
   "metadata": {},
   "outputs": [],
   "source": [
    "df = pd.DataFrame.copy(raw_data)\n",
    "df.shape"
   ]
  },
  {
   "cell_type": "code",
   "execution_count": null,
   "metadata": {},
   "outputs": [],
   "source": [
    "df.columns"
   ]
  },
  {
   "cell_type": "code",
   "execution_count": null,
   "metadata": {},
   "outputs": [],
   "source": [
    "# Remove null columns\n",
    "threshold = 0.5\n",
    "\n",
    "max_null = 0\n",
    "\n",
    "for col in df.columns:\n",
    "    n_null = df[col].isnull().mean()\n",
    "\n",
    "    if n_null > max_null:\n",
    "        max_null = n_null\n",
    "    \n",
    "    if df[col].isnull().mean() > threshold:\n",
    "        df.drop(columns=col, axis=1, inplace=True)\n",
    "        \n",
    "print(max_null)"
   ]
  },
  {
   "cell_type": "code",
   "execution_count": null,
   "metadata": {},
   "outputs": [],
   "source": [
    "df.columns"
   ]
  },
  {
   "cell_type": "code",
   "execution_count": null,
   "metadata": {},
   "outputs": [],
   "source": [
    "# Remove useless columns\n",
    "\n",
    "useless_cols = [\n",
    "    \"abstracts-retrieval-response.item.ait:process-info.ait:status.@type\",\n",
    "    \"abstracts-retrieval-response.item.ait:process-info.ait:status.@state\",\n",
    "    \"abstracts-retrieval-response.item.ait:process-info.ait:status.@stage\",  # just status\n",
    "    \"abstracts-retrieval-response.item.ait:process-info.ait:date-delivered.@day\",\n",
    "    \"abstracts-retrieval-response.item.ait:process-info.ait:date-delivered.@timestamp\",\n",
    "    \"abstracts-retrieval-response.item.ait:process-info.ait:date-delivered.@month\",  # just year is enough\n",
    "    \"abstracts-retrieval-response.item.ait:process-info.ait:date-sort.@day\",\n",
    "    \"abstracts-retrieval-response.item.ait:process-info.ait:date-sort.@month\",\n",
    "    \"abstracts-retrieval-response.item.bibrecord.head.abstracts\",\n",
    "    \"abstracts-retrieval-response.item.bibrecord.head.correspondence.affiliation.@country\",  # is short form of country\n",
    "    \"abstracts-retrieval-response.item.bibrecord.head.citation-info.citation-type.@code\",  # just type\n",
    "    \"abstracts-retrieval-response.item.bibrecord.head.citation-info.citation-language.@xml:lang\",  # short form of language\n",
    "    \"abstracts-retrieval-response.item.bibrecord.head.source.sourcetitle-abbrev\",  # title not needed\n",
    "    \"abstracts-retrieval-response.item.bibrecord.head.source.website.ce:e-address.$\",  # website\n",
    "    \"abstracts-retrieval-response.item.bibrecord.head.source.website.ce:e-address.@type\",  # type of above\n",
    "    \"abstracts-retrieval-response.item.bibrecord.head.source.volisspag.pagerange.@first\",\n",
    "    \"abstracts-retrieval-response.item.bibrecord.head.source.volisspag.pagerange.@last\",  # could be good if we do how much pages ref prediction\n",
    "    \"abstracts-retrieval-response.item.bibrecord.head.source.@type\",  # just type\n",
    "    \"abstracts-retrieval-response.item.bibrecord.head.source.sourcetitle\",  # just title\n",
    "    \"abstracts-retrieval-response.item.bibrecord.head.source.@srcid\",  # id\n",
    "    \"abstracts-retrieval-response.item.bibrecord.head.source.publicationdate.month\",\n",
    "    \"abstracts-retrieval-response.item.bibrecord.head.source.publicationdate.year\",  # redundant publish year\n",
    "    \"abstracts-retrieval-response.item.bibrecord.head.source.publicationdate.date-text.@xfab-added\",\n",
    "    \"abstracts-retrieval-response.item.bibrecord.head.source.publicationdate.date-text.$\",\n",
    "    \"abstracts-retrieval-response.item.bibrecord.head.source.publicationdate.day\",  # just year is enough\n",
    "    \"abstracts-retrieval-response.item.bibrecord.head.correspondence.person.ce:initials\", # useless first char name\n",
    "    \"abstracts-retrieval-response.item.bibrecord.item-info.copyright.$\",\n",
    "    \"abstracts-retrieval-response.item.bibrecord.item-info.copyright.@type\",\n",
    "    \"abstracts-retrieval-response.item.bibrecord.item-info.history.date-created.@day\",\n",
    "    \"abstracts-retrieval-response.item.bibrecord.item-info.history.date-created.@timestamp\",\n",
    "    \"abstracts-retrieval-response.item.bibrecord.item-info.history.date-created.@year\",\n",
    "    \"abstracts-retrieval-response.item.bibrecord.item-info.history.date-created.@month\",  # why it created in 2020 when it is 2018 file 💀\n",
    "    \"abstracts-retrieval-response.item.bibrecord.item-info.itemidlist.itemid\",\n",
    "    \"abstracts-retrieval-response.item.bibrecord.item-info.itemidlist.ce:doi\",  # ids\n",
    "    \"abstracts-retrieval-response.coredata.srctype\",  # just type\n",
    "    \"abstracts-retrieval-response.coredata.eid\",  # ids\n",
    "    \"abstracts-retrieval-response.coredata.prism:url\",\n",
    "    \"abstracts-retrieval-response.coredata.subtypeDescription\",\n",
    "    \"abstracts-retrieval-response.coredata.link\",\n",
    "    \"abstracts-retrieval-response.coredata.source-id\",\n",
    "    \"abstracts-retrieval-response.coredata.prism:endingPage\",\n",
    "    \"abstracts-retrieval-response.coredata.openaccess\",\n",
    "    \"abstracts-retrieval-response.coredata.openaccessFlag\",  # not necessary\n",
    "    \"abstracts-retrieval-response.coredata.prism:doi\",\n",
    "    \"abstracts-retrieval-response.coredata.prism:startingPage\",\n",
    "    \"abstracts-retrieval-response.coredata.subtype\",\n",
    "    \"abstracts-retrieval-response.coredata.dc:identifier\",  # also id\n",
    "    \"abstracts-retrieval-response.coredata.publishercopyright\",\n",
    "    # \"abstracts-retrieval-response.coredata.dc:publisher\",\n",
    "    \"abstracts-retrieval-response.language.@xml:lang\",\n",
    "    \"abstracts-retrieval-response.authors.author\",  # redundant author\n",
    "    \"abstracts-retrieval-response.item.xocs:meta.xocs:funding-list.@pui-match\",  # what is this?\n",
    "    \"abstracts-retrieval-response.item.xocs:meta.xocs:funding-list.@has-funding-info\",\n",
    "    \"abstracts-retrieval-response.item.xocs:meta.xocs:funding-list.xocs:funding-addon-generated-timestamp\",\n",
    "    \"abstracts-retrieval-response.item.xocs:meta.xocs:funding-list.xocs:funding-addon-type\",  # link\n",
    "    \"abstracts-retrieval-response.item.bibrecord.head.citation-info.abstract-language.@xml:lang\",  # redundant with language\n",
    "    \"abstracts-retrieval-response.item.bibrecord.head.source.translated-sourcetitle.$\", # title\n",
    "    \"abstracts-retrieval-response.item.bibrecord.head.source.volisspag.voliss.@volume\",\n",
    "    \"abstracts-retrieval-response.item.bibrecord.head.source.issn\",  # id?\n",
    "    \"abstracts-retrieval-response.coredata.dc:description\",\n",
    "    \"abstracts-retrieval-response.coredata.prism:volume\",\n",
    "    \"abstracts-retrieval-response.coredata.prism:issn\",\n",
    "    \"abstracts-retrieval-response.item.xocs:meta.xocs:funding-list.xocs:funding-text\",  # basically desc\n",
    "    \"abstracts-retrieval-response.item.bibrecord.head.correspondence.affiliation.postal-code\",\n",
    "    \"abstracts-retrieval-response.item.bibrecord.head.citation-info.author-keywords.author-keyword\",  # probably too many unique\n",
    "    \"abstracts-retrieval-response.authkeywords.author-keyword\",  # probably too many unique\n",
    "    \"abstracts-retrieval-response.item.bibrecord.head.source.volisspag.voliss.@issue\",\n",
    "    \"abstracts-retrieval-response.coredata.prism:issueIdentifier\",\n",
    "    \"abstracts-retrieval-response.coredata.prism:pageRange\",\n",
    "    \"abstracts-retrieval-response.item.xocs:meta.xocs:funding-list.xocs:funding\", # we donot care funding\n",
    "    \"abstracts-retrieval-response.item.bibrecord.head.grantlist.@complete\",\n",
    "    \"abstracts-retrieval-response.item.bibrecord.head.grantlist.grant-text.$\",\n",
    "    \"abstracts-retrieval-response.item.bibrecord.head.grantlist.grant-text.@xml:lang\",\n",
    "    \"abstracts-retrieval-response.idxterms.mainterm\",\n",
    "    \"abstracts-retrieval-response.item.bibrecord.head.source.translated-sourcetitle.@xml:lang\",\n",
    "]\n",
    "\n",
    "df.drop(columns=useless_cols, axis=1, inplace=True)"
   ]
  },
  {
   "cell_type": "code",
   "execution_count": 11,
   "metadata": {},
   "outputs": [
    {
     "data": {
      "text/plain": [
       "Index(['abstracts-retrieval-response.item.ait:process-info.ait:date-delivered.@year',\n",
       "       'abstracts-retrieval-response.item.ait:process-info.ait:date-sort.@year',\n",
       "       'abstracts-retrieval-response.item.bibrecord.head.author-group',\n",
       "       'abstracts-retrieval-response.item.bibrecord.head.citation-title',\n",
       "       'abstracts-retrieval-response.item.bibrecord.head.correspondence.affiliation.country',\n",
       "       'abstracts-retrieval-response.item.bibrecord.head.correspondence.affiliation.city',\n",
       "       'abstracts-retrieval-response.item.bibrecord.head.correspondence.affiliation.organization',\n",
       "       'abstracts-retrieval-response.item.bibrecord.head.correspondence.person.ce:given-name',\n",
       "       'abstracts-retrieval-response.item.bibrecord.head.correspondence.person.ce:surname',\n",
       "       'abstracts-retrieval-response.item.bibrecord.head.correspondence.person.ce:indexed-name',\n",
       "       'abstracts-retrieval-response.item.bibrecord.head.citation-info.citation-language.@language',\n",
       "       'abstracts-retrieval-response.item.bibrecord.head.source.@country',\n",
       "       'abstracts-retrieval-response.item.bibrecord.head.source.publicationyear.@first',\n",
       "       'abstracts-retrieval-response.item.bibrecord.head.source.publisher.publishername',\n",
       "       'abstracts-retrieval-response.item.bibrecord.head.enhancement.classificationgroup.classifications',\n",
       "       'abstracts-retrieval-response.item.bibrecord.item-info.dbcollection',\n",
       "       'abstracts-retrieval-response.item.bibrecord.tail.bibliography.@refcount',\n",
       "       'abstracts-retrieval-response.item.bibrecord.tail.bibliography.reference',\n",
       "       'abstracts-retrieval-response.affiliation',\n",
       "       'abstracts-retrieval-response.coredata.prism:coverDate',\n",
       "       'abstracts-retrieval-response.coredata.prism:aggregationType',\n",
       "       'abstracts-retrieval-response.coredata.dc:creator.author',\n",
       "       'abstracts-retrieval-response.coredata.prism:publicationName',\n",
       "       'abstracts-retrieval-response.coredata.citedby-count',\n",
       "       'abstracts-retrieval-response.coredata.dc:title',\n",
       "       'abstracts-retrieval-response.coredata.dc:publisher',\n",
       "       'abstracts-retrieval-response.subject-areas.subject-area',\n",
       "       'abstracts-retrieval-response.item.bibrecord.head.citation-info.abstract-language.@language'],\n",
       "      dtype='object')"
      ]
     },
     "execution_count": 11,
     "metadata": {},
     "output_type": "execute_result"
    }
   ],
   "source": [
    "df.columns"
   ]
  },
  {
   "cell_type": "code",
   "execution_count": 99,
   "metadata": {},
   "outputs": [],
   "source": [
    "column_renaming = {\n",
    "    \"abstracts-retrieval-response.item.ait:process-info.ait:date-delivered.@year\": \"date_delivered_year\",\n",
    "    \"abstracts-retrieval-response.item.ait:process-info.ait:date-sort.@year\": \"date_sort_year\",\n",
    "    \"abstracts-retrieval-response.item.bibrecord.head.author-group\": \"author_group\",\n",
    "    \"abstracts-retrieval-response.item.bibrecord.head.citation-title\": \"citation_title\",\n",
    "    # \"abstracts-retrieval-response.item.bibrecord.head.abstracts\": \"abstracts\",\n",
    "    \"abstracts-retrieval-response.item.bibrecord.head.correspondence.affiliation.country\": \"affiliation_country\",\n",
    "    \"abstracts-retrieval-response.item.bibrecord.head.correspondence.affiliation.city\": \"affiliation_city\",\n",
    "    \"abstracts-retrieval-response.item.bibrecord.head.correspondence.affiliation.organization\": \"affiliation_organization\",\n",
    "    \"abstracts-retrieval-response.item.bibrecord.head.correspondence.person.ce:given-name\": \"corresponding_author_given_name\",\n",
    "    # \"abstracts-retrieval-response.item.bibrecord.head.correspondence.person.ce:initials\": \"corresponding_author_initials\",\n",
    "    \"abstracts-retrieval-response.item.bibrecord.head.correspondence.person.ce:surname\": \"corresponding_author_surname\",\n",
    "    \"abstracts-retrieval-response.item.bibrecord.head.correspondence.person.ce:indexed-name\": \"corresponding_author_indexed_name\",\n",
    "    \"abstracts-retrieval-response.item.bibrecord.head.citation-info.citation-language.@language\": \"citation_language\",\n",
    "    \"abstracts-retrieval-response.item.bibrecord.head.citation-info.abstract-language.@language\": \"abstract_language\",\n",
    "    \"abstracts-retrieval-response.item.bibrecord.head.source.@country\": \"source_country\",\n",
    "    # \"abstracts-retrieval-response.item.bibrecord.head.source.translated-sourcetitle.@xml:lang\": \"source_translated_title_lang\",\n",
    "    \"abstracts-retrieval-response.item.bibrecord.head.source.publicationyear.@first\": \"source_publication_year\",\n",
    "    \"abstracts-retrieval-response.item.bibrecord.head.source.publisher.publishername\": \"source_publisher_name\",\n",
    "    \"abstracts-retrieval-response.item.bibrecord.head.enhancement.classificationgroup.classifications\": \"classificationgroup\",\n",
    "    \"abstracts-retrieval-response.item.bibrecord.item-info.dbcollection\": \"dbcollection\",\n",
    "    \"abstracts-retrieval-response.item.bibrecord.tail.bibliography.@refcount\": \"ref_count\",\n",
    "    \"abstracts-retrieval-response.item.bibrecord.tail.bibliography.reference\": \"reference\",\n",
    "    \"abstracts-retrieval-response.affiliation\": \"affiliation\",\n",
    "    \"abstracts-retrieval-response.coredata.prism:coverDate\": \"coverDate\",\n",
    "    \"abstracts-retrieval-response.coredata.prism:aggregationType\": \"aggregationType\",\n",
    "    \"abstracts-retrieval-response.coredata.dc:creator.author\": \"author\",\n",
    "    \"abstracts-retrieval-response.coredata.prism:publicationName\": \"publicationName\",\n",
    "    \"abstracts-retrieval-response.coredata.citedby-count\": \"citedby_count\",\n",
    "    # \"abstracts-retrieval-response.coredata.subtype\": \"subtype\",\n",
    "    # \"abstracts-retrieval-response.coredata.prism:pageRange\": \"pageRange\",\n",
    "    \"abstracts-retrieval-response.coredata.dc:title\": \"title\",\n",
    "    \"abstracts-retrieval-response.subject-areas.subject-area\": \"subject_area\",\n",
    "    # \"abstracts-retrieval-response.coredata.publishercopyright\": \"publishercopyright\",\n",
    "    \"abstracts-retrieval-response.coredata.dc:publisher\": \"publisher\",\n",
    "    # \"abstracts-retrieval-response.idxterms.mainterm\": \"mainterm\",\n",
    "}\n",
    "\n",
    "df.rename(columns=column_renaming, inplace=True)"
   ]
  },
  {
   "cell_type": "code",
   "execution_count": null,
   "metadata": {},
   "outputs": [],
   "source": [
    "# df.dropna(axis=0, inplace=True)\n",
    "\n",
    "for col in df.columns:\n",
    "    # if (df[col].isnull()):\n",
    "    print(col, df[col].isnull().mean())"
   ]
  },
  {
   "cell_type": "code",
   "execution_count": null,
   "metadata": {},
   "outputs": [],
   "source": [
    "df.info()"
   ]
  },
  {
   "cell_type": "code",
   "execution_count": 15,
   "metadata": {},
   "outputs": [],
   "source": [
    "# important col\n",
    "df['subject_area'] = df['subject_area'].fillna('Unknown')"
   ]
  },
  {
   "cell_type": "code",
   "execution_count": 16,
   "metadata": {},
   "outputs": [],
   "source": [
    "# convert to datetime\n",
    "df['coverDate'] = pd.to_datetime(df['coverDate'], errors='coerce')"
   ]
  },
  {
   "cell_type": "code",
   "execution_count": null,
   "metadata": {},
   "outputs": [],
   "source": [
    "df.info()"
   ]
  },
  {
   "cell_type": "code",
   "execution_count": 18,
   "metadata": {},
   "outputs": [],
   "source": [
    "# Convert columns to numeric\n",
    "df['source_publication_year'] = pd.to_numeric(df['source_publication_year'], errors='coerce')\n",
    "df['date_sort_year'] = pd.to_numeric(df['date_sort_year'], errors='coerce')\n",
    "df['date_delivered_year'] = pd.to_numeric(df['date_delivered_year'], errors='coerce')\n",
    "\n",
    "df['citedby_count'] = pd.to_numeric(df['citedby_count'], errors='coerce')\n",
    "df['ref_count'] = pd.to_numeric(df['ref_count'], errors='coerce')\n",
    "\n",
    "# Fill NaN with the mean value and convert to integer type\n",
    "df['citedby_count'] = df['citedby_count'].fillna(df['citedby_count'].mean()).astype(int)\n",
    "df['ref_count'] = df['ref_count'].fillna(df['ref_count'].mean()).astype(int)"
   ]
  },
  {
   "cell_type": "code",
   "execution_count": null,
   "metadata": {},
   "outputs": [],
   "source": [
    "df.info()"
   ]
  },
  {
   "cell_type": "code",
   "execution_count": 20,
   "metadata": {},
   "outputs": [],
   "source": [
    "df.fillna(\"Unknown\", inplace=True)"
   ]
  }
 ],
 "metadata": {
  "kernelspec": {
   "display_name": "Python 3",
   "language": "python",
   "name": "python3"
  },
  "language_info": {
   "codemirror_mode": {
    "name": "ipython",
    "version": 3
   },
   "file_extension": ".py",
   "mimetype": "text/x-python",
   "name": "python",
   "nbconvert_exporter": "python",
   "pygments_lexer": "ipython3",
   "version": "3.12.7"
  }
 },
 "nbformat": 4,
 "nbformat_minor": 2
}
